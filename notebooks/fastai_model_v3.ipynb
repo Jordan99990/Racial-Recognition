{
 "cells": [
  {
   "cell_type": "code",
   "execution_count": 1,
   "metadata": {},
   "outputs": [],
   "source": [
    "from fastai.vision.all import *"
   ]
  },
  {
   "cell_type": "code",
   "execution_count": 2,
   "metadata": {},
   "outputs": [],
   "source": [
    "def train_fairface_model(train_df, arch=resnet34, epochs=10, bs=64, lr=1e-3):\n",
    "    fairface_block = DataBlock(\n",
    "        blocks=(ImageBlock, MultiCategoryBlock),\n",
    "        get_x=ColReader('file', pref='./Dataset/'),  \n",
    "        get_y=ColReader(['age', 'gender', 'race']),\n",
    "        splitter=ColSplitter('is_valid'),  \n",
    "        item_tfms=Resize(224),\n",
    "        batch_tfms=aug_transforms(mult=1.0, max_rotate=20.0, max_zoom=1.2, max_warp=0.2, p_affine=0.75)\n",
    "    )\n",
    "\n",
    "    dls = fairface_block.dataloaders(train_df, bs=bs)\n",
    "\n",
    "    learn = vision_learner(dls, arch, metrics=[partial(accuracy_multi, thresh=0.5)])\n",
    "\n",
    "    learn.lr_find()\n",
    "\n",
    "    learn.fine_tune(\n",
    "        epochs,\n",
    "        base_lr=lr,\n",
    "        cbs=[\n",
    "            SaveModelCallback(monitor='valid_loss'),\n",
    "            EarlyStoppingCallback(monitor='valid_loss', patience=3), \n",
    "            ReduceLROnPlateau(monitor='valid_loss', patience=2)  \n",
    "        ]\n",
    "    )\n",
    "\n",
    "    learn.export('../models/fairface_v3.pkl')\n",
    "    torch.save(learn.model.state_dict(), '../models/fairface_v3.pth')\n",
    "\n",
    "    return learn\n",
    "\n"
   ]
  },
  {
   "cell_type": "code",
   "execution_count": 3,
   "metadata": {},
   "outputs": [
    {
     "data": {
      "text/html": [
       "\n",
       "<style>\n",
       "    /* Turns off some styling */\n",
       "    progress {\n",
       "        /* gets rid of default border in Firefox and Opera. */\n",
       "        border: none;\n",
       "        /* Needs to be in here for Safari polyfill so background images work as expected. */\n",
       "        background-size: auto;\n",
       "    }\n",
       "    progress:not([value]), progress:not([value])::-webkit-progress-bar {\n",
       "        background: repeating-linear-gradient(45deg, #7e7e7e, #7e7e7e 10px, #5c5c5c 10px, #5c5c5c 20px);\n",
       "    }\n",
       "    .progress-bar-interrupted, .progress-bar-interrupted::-webkit-progress-bar {\n",
       "        background: #F44336;\n",
       "    }\n",
       "</style>\n"
      ],
      "text/plain": [
       "<IPython.core.display.HTML object>"
      ]
     },
     "metadata": {},
     "output_type": "display_data"
    },
    {
     "data": {
      "text/html": [],
      "text/plain": [
       "<IPython.core.display.HTML object>"
      ]
     },
     "metadata": {},
     "output_type": "display_data"
    },
    {
     "data": {
      "text/html": [
       "\n",
       "<style>\n",
       "    /* Turns off some styling */\n",
       "    progress {\n",
       "        /* gets rid of default border in Firefox and Opera. */\n",
       "        border: none;\n",
       "        /* Needs to be in here for Safari polyfill so background images work as expected. */\n",
       "        background-size: auto;\n",
       "    }\n",
       "    progress:not([value]), progress:not([value])::-webkit-progress-bar {\n",
       "        background: repeating-linear-gradient(45deg, #7e7e7e, #7e7e7e 10px, #5c5c5c 10px, #5c5c5c 20px);\n",
       "    }\n",
       "    .progress-bar-interrupted, .progress-bar-interrupted::-webkit-progress-bar {\n",
       "        background: #F44336;\n",
       "    }\n",
       "</style>\n"
      ],
      "text/plain": [
       "<IPython.core.display.HTML object>"
      ]
     },
     "metadata": {},
     "output_type": "display_data"
    },
    {
     "data": {
      "text/html": [
       "<table border=\"1\" class=\"dataframe\">\n",
       "  <thead>\n",
       "    <tr style=\"text-align: left;\">\n",
       "      <th>epoch</th>\n",
       "      <th>train_loss</th>\n",
       "      <th>valid_loss</th>\n",
       "      <th>accuracy_multi</th>\n",
       "      <th>time</th>\n",
       "    </tr>\n",
       "  </thead>\n",
       "  <tbody>\n",
       "    <tr>\n",
       "      <td>0</td>\n",
       "      <td>0.312984</td>\n",
       "      <td>0.292017</td>\n",
       "      <td>0.879455</td>\n",
       "      <td>11:59</td>\n",
       "    </tr>\n",
       "  </tbody>\n",
       "</table>"
      ],
      "text/plain": [
       "<IPython.core.display.HTML object>"
      ]
     },
     "metadata": {},
     "output_type": "display_data"
    },
    {
     "name": "stdout",
     "output_type": "stream",
     "text": [
      "Better model found at epoch 0 with valid_loss value: 0.2920166552066803.\n"
     ]
    },
    {
     "data": {
      "text/html": [
       "\n",
       "<style>\n",
       "    /* Turns off some styling */\n",
       "    progress {\n",
       "        /* gets rid of default border in Firefox and Opera. */\n",
       "        border: none;\n",
       "        /* Needs to be in here for Safari polyfill so background images work as expected. */\n",
       "        background-size: auto;\n",
       "    }\n",
       "    progress:not([value]), progress:not([value])::-webkit-progress-bar {\n",
       "        background: repeating-linear-gradient(45deg, #7e7e7e, #7e7e7e 10px, #5c5c5c 10px, #5c5c5c 20px);\n",
       "    }\n",
       "    .progress-bar-interrupted, .progress-bar-interrupted::-webkit-progress-bar {\n",
       "        background: #F44336;\n",
       "    }\n",
       "</style>\n"
      ],
      "text/plain": [
       "<IPython.core.display.HTML object>"
      ]
     },
     "metadata": {},
     "output_type": "display_data"
    },
    {
     "data": {
      "text/html": [
       "<table border=\"1\" class=\"dataframe\">\n",
       "  <thead>\n",
       "    <tr style=\"text-align: left;\">\n",
       "      <th>epoch</th>\n",
       "      <th>train_loss</th>\n",
       "      <th>valid_loss</th>\n",
       "      <th>accuracy_multi</th>\n",
       "      <th>time</th>\n",
       "    </tr>\n",
       "  </thead>\n",
       "  <tbody>\n",
       "    <tr>\n",
       "      <td>0</td>\n",
       "      <td>0.250071</td>\n",
       "      <td>0.231559</td>\n",
       "      <td>0.900711</td>\n",
       "      <td>15:20</td>\n",
       "    </tr>\n",
       "    <tr>\n",
       "      <td>1</td>\n",
       "      <td>0.223263</td>\n",
       "      <td>0.204589</td>\n",
       "      <td>0.909795</td>\n",
       "      <td>15:21</td>\n",
       "    </tr>\n",
       "    <tr>\n",
       "      <td>2</td>\n",
       "      <td>0.209798</td>\n",
       "      <td>0.192274</td>\n",
       "      <td>0.914724</td>\n",
       "      <td>15:19</td>\n",
       "    </tr>\n",
       "    <tr>\n",
       "      <td>3</td>\n",
       "      <td>0.196702</td>\n",
       "      <td>0.186141</td>\n",
       "      <td>0.917037</td>\n",
       "      <td>15:20</td>\n",
       "    </tr>\n",
       "    <tr>\n",
       "      <td>4</td>\n",
       "      <td>0.192788</td>\n",
       "      <td>0.181119</td>\n",
       "      <td>0.919654</td>\n",
       "      <td>15:43</td>\n",
       "    </tr>\n",
       "    <tr>\n",
       "      <td>5</td>\n",
       "      <td>0.180249</td>\n",
       "      <td>0.178465</td>\n",
       "      <td>0.920704</td>\n",
       "      <td>15:42</td>\n",
       "    </tr>\n",
       "    <tr>\n",
       "      <td>6</td>\n",
       "      <td>0.177424</td>\n",
       "      <td>0.176826</td>\n",
       "      <td>0.921612</td>\n",
       "      <td>15:42</td>\n",
       "    </tr>\n",
       "    <tr>\n",
       "      <td>7</td>\n",
       "      <td>0.164861</td>\n",
       "      <td>0.177060</td>\n",
       "      <td>0.922123</td>\n",
       "      <td>15:32</td>\n",
       "    </tr>\n",
       "    <tr>\n",
       "      <td>8</td>\n",
       "      <td>0.153720</td>\n",
       "      <td>0.176465</td>\n",
       "      <td>0.922762</td>\n",
       "      <td>15:32</td>\n",
       "    </tr>\n",
       "    <tr>\n",
       "      <td>9</td>\n",
       "      <td>0.157552</td>\n",
       "      <td>0.176630</td>\n",
       "      <td>0.922525</td>\n",
       "      <td>15:30</td>\n",
       "    </tr>\n",
       "    <tr>\n",
       "      <td>10</td>\n",
       "      <td>0.148819</td>\n",
       "      <td>0.176680</td>\n",
       "      <td>0.922459</td>\n",
       "      <td>15:40</td>\n",
       "    </tr>\n",
       "    <tr>\n",
       "      <td>11</td>\n",
       "      <td>0.146548</td>\n",
       "      <td>0.176450</td>\n",
       "      <td>0.922560</td>\n",
       "      <td>15:39</td>\n",
       "    </tr>\n",
       "  </tbody>\n",
       "</table>"
      ],
      "text/plain": [
       "<IPython.core.display.HTML object>"
      ]
     },
     "metadata": {},
     "output_type": "display_data"
    },
    {
     "name": "stdout",
     "output_type": "stream",
     "text": [
      "Better model found at epoch 0 with valid_loss value: 0.2315593659877777.\n",
      "Better model found at epoch 1 with valid_loss value: 0.20458920300006866.\n",
      "Better model found at epoch 2 with valid_loss value: 0.19227419793605804.\n",
      "Better model found at epoch 3 with valid_loss value: 0.18614114820957184.\n",
      "Better model found at epoch 4 with valid_loss value: 0.18111927807331085.\n",
      "Better model found at epoch 5 with valid_loss value: 0.17846494913101196.\n",
      "Better model found at epoch 6 with valid_loss value: 0.17682571709156036.\n",
      "Better model found at epoch 8 with valid_loss value: 0.1764654815196991.\n",
      "Epoch 10: reducing lr to 1.7298986320982146e-06\n",
      "Better model found at epoch 11 with valid_loss value: 0.17645017802715302.\n"
     ]
    },
    {
     "data": {
      "image/png": "[encoded data removed]",
      "text/plain": [
       "<Figure size 640x480 with 1 Axes>"
      ]
     },
     "metadata": {},
     "output_type": "display_data"
    }
   ],
   "source": [
    "train_df = pd.read_csv('./Dataset/fairface_label_train.csv').drop(columns=['service_test'])\n",
    "val_df = pd.read_csv('./Dataset/fairface_label_val.csv').drop(columns=['service_test'])\n",
    "\n",
    "train_df['is_valid'] = False\n",
    "val_df['is_valid'] = True\n",
    "\n",
    "combined_df = pd.concat([train_df, val_df])\n",
    "\n",
    "learn = train_fairface_model(combined_df, arch=resnet50, epochs=12, bs=32, lr=1e-3)"
   ]
  },
  {
   "cell_type": "code",
   "execution_count": 7,
   "metadata": {},
   "outputs": [
    {
     "data": {
      "text/html": [
       "\n",
       "<style>\n",
       "    /* Turns off some styling */\n",
       "    progress {\n",
       "        /* gets rid of default border in Firefox and Opera. */\n",
       "        border: none;\n",
       "        /* Needs to be in here for Safari polyfill so background images work as expected. */\n",
       "        background-size: auto;\n",
       "    }\n",
       "    progress:not([value]), progress:not([value])::-webkit-progress-bar {\n",
       "        background: repeating-linear-gradient(45deg, #7e7e7e, #7e7e7e 10px, #5c5c5c 10px, #5c5c5c 20px);\n",
       "    }\n",
       "    .progress-bar-interrupted, .progress-bar-interrupted::-webkit-progress-bar {\n",
       "        background: #F44336;\n",
       "    }\n",
       "</style>\n"
      ],
      "text/plain": [
       "<IPython.core.display.HTML object>"
      ]
     },
     "metadata": {},
     "output_type": "display_data"
    },
    {
     "data": {
      "text/html": [
       "\n",
       "    <div>\n",
       "      <progress value='0' class='' max='1' style='width:300px; height:20px; vertical-align: middle;'></progress>\n",
       "      0.00% [0/1 00:00&lt;?]\n",
       "    </div>\n",
       "    "
      ],
      "text/plain": [
       "<IPython.core.display.HTML object>"
      ]
     },
     "metadata": {},
     "output_type": "display_data"
    },
    {
     "name": "stdout",
     "output_type": "stream",
     "text": [
      "\n",
      "Top-4 Age Predictions:\n",
      "3-9: 0.6803\n",
      "10-19: 0.1317\n",
      "20-29: 0.0488\n",
      "30-39: 0.0043\n",
      "\n",
      "Top-4 Gender Predictions:\n",
      "Female: 0.9967\n",
      "Male: 0.0004\n",
      "\n",
      "Top-4 Race Predictions:\n",
      "Black: 0.5511\n",
      "Middle Eastern: 0.2362\n",
      "Southeast Asian: 0.1246\n",
      "White: 0.0120\n"
     ]
    }
   ],
   "source": [
    "age_labels = ['0-2', '3-9', '10-19', '20-29', '30-39', '40-49', '50-59', '60-69', 'more than 70']\n",
    "gender_labels = ['Male', 'Female']\n",
    "race_labels = ['White', 'Black', 'East Asian', 'Southeast Asian', 'Indian', 'Middle Eastern', 'Latino_Hispanic']\n",
    "\n",
    "def predict_and_print_probs_all(img_path):\n",
    "    img = PILImage.create(img_path)\n",
    "\n",
    "    pred, pred_idx, probs = learn.predict(img)\n",
    "\n",
    "    age_probs = probs[:len(age_labels)]\n",
    "    gender_probs = probs[len(age_labels):len(age_labels) + len(gender_labels)]\n",
    "    race_probs = probs[len(age_labels) + len(gender_labels):]\n",
    "\n",
    "    def print_probabilities(label_type, labels, probabilities):\n",
    "        print(f\"\\n{label_type} Category Probabilities:\")\n",
    "        for label, prob in zip(labels, probabilities):\n",
    "            print(f'{label}: {prob:.4f}')\n",
    "\n",
    "    print_probabilities(\"Age\", age_labels, age_probs)\n",
    "    print_probabilities(\"Gender\", gender_labels, gender_probs)\n",
    "    print_probabilities(\"Race\", race_labels, race_probs)\n",
    "\n",
    "def predict_and_print_probs_2(img_path):\n",
    "    img = PILImage.create(img_path)\n",
    "\n",
    "    pred, pred_idx, probs = learn.predict(img)\n",
    "\n",
    "    age_probs = probs[:len(age_labels)]\n",
    "    gender_probs = probs[len(age_labels):len(age_labels) + len(gender_labels)]\n",
    "    race_probs = probs[len(age_labels) + len(gender_labels):]\n",
    "    \n",
    "    def print_top_k_probabilities(label_type, labels, probabilities, k=1):\n",
    "        print(f\"\\nTop-{k} {label_type} Predictions:\")\n",
    "        top_k = sorted(zip(labels, probabilities), key=lambda x: x[1], reverse=True)[:k]\n",
    "        for label, prob in top_k:\n",
    "            print(f'{label}: {prob:.4f}')\n",
    "\n",
    "    print_top_k_probabilities(\"Age\", age_labels, age_probs, k=4)  \n",
    "    print_top_k_probabilities(\"Gender\", gender_labels, gender_probs, k=4)\n",
    "    print_top_k_probabilities(\"Race\", race_labels, race_probs, k=4)\n",
    "\n",
    "\n",
    "predict_and_print_probs_2('./Dataset/val/116.jpg')"
   ]
  }
 ],
 "metadata": {
  "kernelspec": {
   "display_name": ".venv",
   "language": "python",
   "name": "python3"
  },
  "language_info": {
   "codemirror_mode": {
    "name": "ipython",
    "version": 3
   },
   "file_extension": ".py",
   "mimetype": "text/x-python",
   "name": "python",
   "nbconvert_exporter": "python",
   "pygments_lexer": "ipython3",
   "version": "3.12.3"
  }
 },
 "nbformat": 4,
 "nbformat_minor": 2
}
